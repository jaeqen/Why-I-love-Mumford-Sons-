{
 "cells": [
  {
   "cell_type": "code",
   "execution_count": 46,
   "metadata": {},
   "outputs": [],
   "source": [
    "import pandas as pd\n",
    "import numpy as np\n",
    "import nltk\n",
    "import csv\n",
    "\n",
    "data = pd.read_csv('/Users/jegan/AnacondaProjects/Mumford/Mumford and Sons Lyrics.csv')\n",
    "#data.head()"
   ]
  },
  {
   "cell_type": "code",
   "execution_count": 59,
   "metadata": {},
   "outputs": [],
   "source": [
    "text = data['Text'].tolist()\n",
    "#print(text)\n",
    "word_list = [word for line in text for word in line.split()]"
   ]
  },
  {
   "cell_type": "code",
   "execution_count": 62,
   "metadata": {},
   "outputs": [],
   "source": [
    "#stemming\n",
    "from nltk.stem import PorterStemmer\n",
    "from nltk.tokenize import sent_tokenize, word_tokenize\n",
    "\n",
    "ps = PorterStemmer()\n",
    "\n",
    "for words in word_list:\n",
    "    stemmed = ps.stem(words)\n",
    "    #print(stemmed)"
   ]
  },
  {
   "cell_type": "code",
   "execution_count": 93,
   "metadata": {},
   "outputs": [
    {
     "data": {
      "text/plain": [
       "'Serve God love mend This end Live unbruised friends And Im sorry Im sorry Sigh more One foot sea one shore My heart never pure You know You know But man giddy thing Oh man giddy thing Oh man giddy thing Oh man giddy thing Love betray Dismay enslave you set free Be like man made There design alignment cry Of heart see The beauty love made Love betray Dismay enslave you set free Be like man made There design alignment cry Of heart see The beauty love made Love betray Dismay enslave you set free Be like man made And design alignment cry Of heart see The beauty love made Its empty valley heart The sun rises slowly walk Away fears And faults youve left behind The harvest left food eat You cannibal meat-eater see But I seen I know shame defeat But I hold hope And I wont let choke On noose around neck And Ill find strength pain And I change ways Ill know name its called Cause I things fill time You take Ill take mine Now let truth Which refresh broken mind So tie post block ears I see widows orphans tears I know call despite faults And despite growing fears But I hold hope And I wont let choke On noose around neck And Ill find strength pain And I change ways Ill know name its called So come cave walking hands And see world hanging upside You understand dependence When know makers land So make sirens call And sing want I hear say Cause I need freedom And I need know To live life its meant And I hold hope And I wont let choke On noose around neck And Ill find strength pain And I change ways Ill know name its called As winter winds litter London lonely hearts Oh warmth eyes swept arms Was love fear cold led us night For every kiss beauty trumped doubt And head told heart Let love grow But heart told head This time This time no Well washed buried one day girl And time given left world The flesh lived loved eaten plague So let memories good stay And head told heart Let love grow But heart told head This time no Yes heart told head This time This time no Oh shame sent God I loved Was sent arms Oh pestilence lost I gone And hope hope overcome But strife strikes sleep Remember spring swaps snow leaves Youll happy wholesome When city clears sun ascends And head told heart Let love grow But heart told head This time no And head told heart Let love grow But heart told head This time This time no Roll away stone Ill roll away mine Together see find Dont leave alone time For Im afraid I discover inside Cause told I would find hole Within fragile substance soul And I filled void things unreal And character steals Darkness harsh term dont think And yet dominates things I see It seems bridges burnt But say thats exactly grace thing works Its long walk home change heart But welcome I receive restart Darkness harsh term dont think And yet dominates things I see Darkness harsh term dont think And yet dominates things I see Stars hide fires These desires And I give time around And Ill found With stake stuck ground Marking territory newly impassioned soul Hide fires These desires And I give time around And Ill found With stake stuck ground Marking territory newly impassioned soul But you youve gone far time You neither reason rhyme With take soul rightfully mine Can lie next And give heart heart As well body And lie next And confess love love As well folly And kneel king And say Im clean Im clean  But tell now fault In loving whole heart Oh tell now fault In loving whole heart A white blank page swelling rage rage You think sent brink brink You desired attention denied affections affections  So tell now fault In loving whole heart Oh tell now fault In loving whole heart Lead truth I follow whole life Oh lead truth I follow whole life Rip earth two mind And seal urge ensues brass wires I never meant harm But tears feel warm fall forearms But close eyes And force world patient smile And say truth better ours Shoulder shoulder brother carry arms And blind man sleeps doorway home If I enemy bigger apathy I could But I gave I gave I gave Close eyes And force world patient smile But I gave I gave I gave And rip hands And swear its gone And rip I Just say youve And rip hands And swear its gone And rip I Just say youve won youve Well youve But I gave I gave I gave Weep yourself man Youll never heart Weep little lion man Youre brave start Rate rake Take courage left And waste fixing problems made head But fault mine And heart line I really fucked time Didnt I dear Didnt I my Tremble yourself man You know seen Tremble little lion man Youll never settle scores Your grace wasted face Your boldness stands alone among wreck Now learn mother else spend days biting neck But fault mine And heart line I really fucked time Didnt I dear But fault mine And heart line I really fucked time Didnt I dear Didnt I dear  But fault mine And heart line I really fucked time Didnt I dear But fault mine And heart line I really fucked time Didnt I dear Didnt I dear Cold water It freezes already cold mind Already cold cold mind And death doorstep And steal innocence But steal substance But alone And alone As brothers stand well hold hand Hold hand And mother The mother baby child The one gave life And choices And make man great His ladder stars But alone And alone As brothers stand well hold hand Hold hand But I tell night And whisper Lose sight But I cant move mountains Spare judgements spare dreams Cause recently mine tearing seams I sit alone winter clarity clouds mind Alone wind rain left Its getting dark darling dark see And Im knees faith shreds seems Corrupted simple sniff riches blown I know felt much love youve shown And Im knees water creeps chest But plant hope good seeds Dont cover thistle weeds Rain down rain Look hills still The sky us shoots kill Rain down rain But I hold I hold hope But I hold I hold hope But I hold I hold hope But I hold I hold hope But I hold I hold I begged hear me theres flesh bones Let dead bury dead come droves But take spade hands fill holes youve made But plant hope good seeds Dont cover thistle weeds Rain down rain How fickle heart woozy eyes I struggle find truth lies And heart stumbles things I dont know My weakness I feel I must finally show Lend hand well conquer But lend heart Ill let fall Lend eyes I change see But soul must keep totally free Har har har har har har har har Awake soul Awake soul How fickle heart woozy eyes I struggle find truth lies And heart stumbles things I dont know My weakness I feel I must finally show Har har har har har har har har In bodies live bodies die And invest love invest life In bodies live bodies die And invest love invest life Awake soul Awake soul Awake soul For made meet maker Awake soul Awake soul Awake soul For made meet maker You made meet maker The young man stands edge porch The days short father gone There one town one field This dusty barren land given could yield Ive kicked land age sixteen And I idea else heart could I placed trust foot hill And I sure heart never still So collect courage collect horse And pray never feel kind remorse Seal heart break pride Ive nowhere stand nowhere hide Align heart body mind To face Ive done time Well accuser look face Your oppression reeks greed disgrace So one man another How love got When took weak hands poor Liars thieves know store There come time I look eye You pray God youve always denied Then Ill go back Ill get gun Ill say You havent met me I son  Seal heart break pride Ive nowhere stand nowhere hide Align heart body mind To face Ive done time Well yes sir yes sir yes I know Ive done cause I know Ive seen I went back I got gun I said You havent met me I son And storm I run run rains come And I look up I look up knees luck I look up Night always pushed day You must know life see decay But I wont rot I wont rot Not mind heart I wont rot And I took hand And stood tall And remembered land What lived for And come time youll see tears And love break heart dismiss fears Get hill see find there With grace heart flowers hair And I cling I knew I saw exactly true But oh more Thats I hold Thats I hold I have Thats I hold And I wont die alone left there Well I guess Ill go home Oh God knows where Because death full man small Well Im scared whats behind whats before And come time youll see tears And love break heart dismiss fears Get hill see find there With grace heart flowers hair And come time youll see tears And love break heart dismiss fears Get hill see find there With grace heart flowers hair Cause I know time numbered days And Ill go along everything say But Ill ride home laughing look Then walls town come crumbling And ears hear call unborn sons And I know choices color Ive done But Ill explain watchmans son I never lived year better spent love Cause I know weakness know voice And Ill believe grace choice And I know perhaps heart farce But Ill born without mask Like city nurtured greed pride I stretch arms sky I cry Babel Babel Look now Then walls town come crumbling You ask stand winds howl As see slip cloud So come mountain stand weve been You know breath weak body thin Press nose up glass around heart I shouldve known I weaker start Youll build walls I play bloody part To tear tear down Well Im gonna tear tear Cause I know weakness know voice And Ill believe grace choice And I know perhaps heart farce But Ill born without mask You hold truth purely Well swerve minds men This lie dead And cup tastes holy But brush Devil clear mind And strengthen spine But fingers tap And Im worried I blew chance Whispers dark Steal kiss youll break heart Pick clothes curl toes Learn lesson lead home Spare sins ark I slow depart Im cad Im fraud Id set serve Lord But heart colder youd gone And I lost head found one I love Under sun sun But fingers tap And Im worried I blew chance Fingers tap And Im worried I blew chance But heart colder youd gone And I lost head Lets live young While young young While young Well I came home Like stone And I fell heavy arms These days dust Which weve known Will blow away new sun But Ill kneel down Wait And Ill kneel down Know ground And I wait I wait And I wait I wait So break step And relent Well forgave I wont forget Know weve seen And less Now way shake excess Cause I wait I wait And I wait I wait And I wait I wait And I wait I wait Now Ill bold As well strong And use head alongside heart So tame flesh And fix eyes A tethered mind freed lies And Ill kneel down Wait Ill kneel down Know ground Raise hands Paint spirit gold And bow head Keep heart slow Cause I wait I wait And I wait I wait And I wait I wait And I wait I wait So I lost go count cost Before go holland road With heart like stone spared time lashing out And I knew pain effect shame cut down cut down And I tell thoughts hell That carried home Holland road With heart like stone I put fight To callous mind corner rose cut down cut down So I hit low little I know would end From holland road well I rose I rose I paid less time To callous mind I wished well cut down cut down But Ill still believe though theres cracks youll see When Im knees Ill still believe And Ive hit ground neither lost found If youll believe Ill still believe But Ill still believe though theres cracks youll see When Im knees Ill still believe And Ive hit ground neither lost found If youll believe Ill still believe You saw pain washed rain Broken glass saw blood run veins But saw fault cracks heart And knelt beside hope torn apart But ghosts knew flicker view Well live long life But I hold long like So give hope darkness I see light Cause oh gave fright But I hold long like Just promise well alright So lead back turn south place But ghosts knew made us black blue And close eyes recent disgrace And ghosts knew flicker view And well live long life Cause know call And well share And children come hear roar So give hope darkness I see light Cause oh gave fright But I hold long like Just promise well alright But hold still bury heart coals But hold still bury heart coals And middle night I may watch go Therell value strength Of walls I grown Therell comfort shade Of shadows thrown But Id youd mine Stretch life And pick seams Take like But close ears eyes Watch stumble I done wrong You built tower But call home And I build throne And wash eyes never But love one hold And Ill gold To hold A lover light With skin tight And eyes like marbles You spin high So watch I glide Before I tumble homeward homeward I know Ive tried I stable And flawed pride I miss sanguine eyes So hold hands - breathe breathe So love one hold And Ill gold To hold A lover light And middle night I may watch go Therell value strength Of walls I grown Therell comfort shade Of shadows thrown You may trust promises Of change Ill show But Id youd mine So love one hold And Ill gold To hold A lover light So love one hold And I gold To hold A lover light Well love kind time Now aches makes blind This mirror holds eyes bright I cant see others life Were young Our heads strong To bear weight lovers eyes Cause I feel numb beneath tongue Beneath curse lovers eyes But ask price I paid I must live quiet rage Tame ghosts head That run wild wish dead Should shake ash wind Lord forget sins Oh let die I lie Neath curse lovers eyes Cause theres drink drug Ive tried To rid curse lovers eyes And I feel numb beneath tongue Your strength makes feel less strong But ask price I paid I must live quiet rage Tame ghosts head That run wild wish dead Should shake ash wind Lord forget sins Or let die I lie Neath curse lovers eyes And Ill walk slow Ill walk slow Take hand help way And Ill walk slow Ill walk slow Take hand Ill way And Ill walk slow Ill walk slow Take hand help way And Ill walk slow Ill walk slow Take hand Ill way ont let darken door Thats I came No its I came And I wont hear cry Im gone I wont know Im wrong I never know Im wrong A constant reminder I find A light might give way Is Im asking without Im lost But love dont fade away So I watched world tear us apart A stoic mind bleeding heart You never see bleeding heart And lights always shining And Ive traveling oh long Ive traveling oh long A constant reminder I find Light might give way Is Im asking without Im lost Oh love dont fade away Oh love dont fade away You heard voice I came woods choice Shelter also gave shade But dark I name So leave click head And I remember words said Left clouded mind heavy heart But I sure could see new start So hopes fire But know desire Dont hold glass flame Dont let heart grow cold I call name I share road But hold fast Hold fast Cause Im hopeless wanderer And hold fast Hold fast Cause Im hopeless wanderer I wrestled long youth We tried hard live truth But tell fine When I lose head I lose spine So leave click head And I wont remember words said You brought cold Now I long I long grow old So hopes fire But know desire Dont hold glass flame Dont let heart grow cold I call name I share road But hold fast Hold fast Cause Im hopeless wanderer And hold fast Hold fast Cause Im hopeless wanderer I learn I learn love skies Im I learn I learn love skies Im The skies Im Touch mouth hold tongue Ill never chosen one Ill home safe tucked away Well cant tempt I dont see day The pull flesh strong Stifled choice air lungs Better breathe breathe lie Cause I open body I breathe lie I speak sin There way The mirror shows Your values shot But oh heart flawed I knew weakness So hold hand consign darkness So crawl belly til sun goes Ill never wear broken crown I took road I fucked away Now twilight dare speak grace So crawl belly til sun goes Ill never wear broken crown I took road I fucked away Now twilight dare speak grace So crawl belly til sun goes Ill never wear broken crown I take road I fuck away But twilight choices seal fate You cold blood bones And light led us chosen homes Well I lost And I sleep Sleep hours I cant weep When I knew steeped blackened holes Well I lost Keep earth feet From sweat blood runs weak Let learn I Keep eyes serve hands learn Keep eyes serve hands learn And I still But I spell When I told Jesus well So must well Just give time When know desires mine So wrap flesh ivy twine For I must well Keep earth feet From sweat blood runs weak Let learn I Oh keep eyes serve hands learn Keep eyes serve hands learn Keep earth feet From sweat blood runs weak Let learn I Keep eyes serve hands learn Keep eyes serve hands learn Your eyes tie hard Ill never learn put guard So keep love candle bright Learn hard oh learn right This aint sham I I Though I may speak tongue old Or even spit holy word I strength speak When sit down see Im weak We run scream You dance Theyll fulfill dreams well free And And theyll heal scars Sadness far away So walked fields green Was fairest sun Id ever seen And I broke I knees And said yes I said please This aint sham I I I leave time For cynics mind We run scream You dance Fulfill dreams well free We And theyll heal scars Sadness far away Do let fickle flesh go waste As keeps heart soul place And I love urgency haste Helpless lies across stairs Haunting days consuming prayers There healing dont force girl stand As shes counting ceilings pale voice trembling hands You told life long its gone You find top leader flock Called rock Whispered notes piano corner room Hold throat healing youre hearing tune Wanting change loving lies Is burden man whos built life love You told life long its gone You find top leader flock Called rock Ill locked stored In lavender ward Cause mind like Just broken crippled burned And I find top leader flock Called rock I poor boy Though story seldom told I squandered resistance For pocket full mumbles promises All lies jests Still man hears What wants hear And disregards rest When I left home family I boy In company strangers In quiet railway stations running scared Laying low seeking poor quarters Where ragged people go Looking places Only would know Asking workmans wages I come looking job But I get offers Just come From whores seventh avenue I declare times When I lonesome I took comfort Then Im laying winter clothes And wishing I home going home Where New York City winters Arent bleeding me leading going home In clearing stands boxer fighter trade And carries reminder every glove laid And cut till cried anger shame I leaving I leaving fighter still remains It came end seems heard As walked city streets You never said word When finally sat Your eyes full spite I desperate I weak I could put fight But now Where now Do ever think In quiet crowd You strangely less pain Than cold Triumphant mind Of logic hold You said one would ever know The love shared As I took leave go It clear didnt care Where now Where now Do ever think In quiet crowd Where now Where now Do ever think In quiet crowd And I hear coming And going town I hear stories smile I hear stories frown And darkness descend We relish pain But I know thats love Cause know I love But now Where now Do ever think In quiet crowd Oh now Where now Do ever think In quiet crowd But now Where now Do ever think In quiet crowd Where now Where now Do ever think In quiet crowd Oh babe meet Tompkins Square Park I wanna hold dark One last time Just one last time And oh babe tell whats tongue Can guess Ill gone With twilight With twilight  But flame burns forever oh You I know well And dont even last night No dont say dont  Oh babe Ive never lost I wanna hear laugh One last time Just one last time And oh babe I really wish would cry I ever told one lie When could thousand It might well thousand  But flame burns forever oh You I know well And dont even last night No dont say dont  And talk round girl Round round round round Or could leave tonight Leave leave  I never tried trick babe I tried work But I swallowed doubt If things black white Cause I want hold tight Without holding back mind Without holding back mind  But flame burns forever oh You I know well And dont even last night No dont say dont You may call evening But youve lost night Present pretty feelings May comfort tonight And Im climbing something And Im running walls I dont even know I believe I dont even know I believe I dont even know I believe Everything youre trying say I strangest feeling Your worlds seems So tired misconceiving What else couldve I dont even know I believe I dont even know I believe I dont even know I believe Everything youre trying say So open eyes Tell Im alive This never gonna go way If Im gonna guess whats mind Say something say something Something like love Less wanna move away From noise place Well I dont even know I believe I dont even know I believe I dont even know I wanna believe Anything youre trying say So open eyes Tell Im alive This never gonna go way If Im gonna guess whats mind So open eyes Tell Im alive This never gonna go way If Im gonna guess whats mind Wide-eyed heart made full fright Your eyes follow like tracers night And tightrope wander every time You weighed found wanting Been wandering days How felt slip mind Leave behind wanton ways I wanna learn love kind Cause You I ever longed Sheltered better keep wolf back door  He wanders ever closer every time  He wanders ever closer every night And waits baying blood I promised everything would fine Been wandering days How felt slip mind Leave behind wanton ways I wanna learn love kind Cause You I ever longed Hold gaze love know I want let go We stare wonder And II hold II hold Been wandering days How felt slip mind Leave behind wanton ways I wanna look eye Cause You I ever longed Been wandering days How felt slip mind Leave behind wanton ways I wanna learn love kind Cause You I ever longed Its blood its water You try tame me tame start When din eye flash flesh Desperate need rise  With silver crystal How well used know shine In place thats safe harm I blessed wilder mind You every little thing want nobody know And try drown street And call love If want  Beholden I find awake Waiting edge You sleep sound mind made Drinking cup broken ends  But I thought believed endless love  Tell thoughts resign And lift mind Im ready Im strong enough To cradle weight love Just take minute take breath Lay head sunken chest I saw flicker smoke But left I calling name night  I thought done And young love would keep us young   I thought fell ground I see whimper sound Open mouth breathe words peace But silence gives nothing back So Ill shadow flame I lent kiss erased name And Ill whisper wind My hands shaking holding tight long  The flame burnt empty hands But I see its got nothing Its got nothing   Why I keep falling I thought done Why I keep falling And young love would keep us young So Thowin dice dark I saw late last night come harm I saw dance devils arms The night kept coming Really nothing I could Eyes fire unquenched peace Curse beauty curse queen So come To place return Yours face makes body burn And name sons learn Curse beauty curse queen Curse beauty leave So youre weak When knees Ill best time thats left Sworn spirit youre fully fleshed So fuck dreams And dont pick seams Ill turn monster you If pay enough None counts dreams plowed So come To place return Yours face makes body burn And name sons learn Curse beauty curse queen Curse beauty leave You hold hands And let flow cruelty Of youth fall Alone compromise truth Its eyes I tell always danger We tonight leave open And stakes remain high For silent mind And shake lonely itch That courses spine To leave love divine Dont leave love divine Its water tight excuse Its eyes I tell always danger We tonight always seek absolution Its eyes I tell always danger How earth around feet Just slip away And abandon greets night With snake eyes precious kind Its eyes I tell always danger We tonight Why always seek absolution Its eyes I tell always danger Broad-shouldered beasts fill sky Manhattan beats night But wrapped wire Curled fright So I took city night To dance dizzy silver lights But moment wild With abandon like child moment But wasnt said I free And wasnt said I needed peace And its whos floored fear  And its alright Take  These apartment walls paper thin And one trying listen What hear doubts Hear whispered shouts dont care Wasnt said I free And wasnt said I needed peace And its whos floored fear   But feel world wrapping round neck Feel hand wrapped And feel world wrapping round neck Dont succumb  But its alright Take Weekend wreckers take streets With abandon eyes But bedroom were bloodshot beat And never alive  And I know whats mind God knows I put But I took back Wed nowhere Youd nowhere  Now look torn I left waiting bleed I guess truth works two ways Maybe truths need  But cold arms You dont sleep In cold arms Your fear beats In cold arms You stay As one reminds past A life lived much fast hold onto How I losing you A broken house Another dry month waiting rain And I resisting decay I thought youd  But I ever And came across years ago Now go far Dont tell Ive changed thats truth And Im losing  Fragile sound The world outside watches crawl Crawl towards life fragile lines And wasted time And I cry As I hold last time life This life I tried hard give What would do   Where I used end start You one And I see eyes move fast You one  Careful hands And wandering without much say Your words empty bed made Is another way Oh love another way  And Im losing Loneliness I stuck spot without friend Alone And I hunger I thirst For shiver For whispered words And promise come  And saw low Alone Didnt say love win end  I didnt fool I failed In short made fool And younger heart And I rage I rage But perhaps I come age And ready  And saw low Alone Didnt say love win end  There great thing stop sing Waiting rain And perfect pill its much On edge Dont look away Couldnt help note cold disdain In precious face Why always speak grace In precious face But even dark I saw one alone At hot gates spit vitriol Though swore wouldnt anymore And I cant things want But I love constantly Theres precious little else And though cry must stay alive Another fragile edge tender sound And went aground Near duller blade promise sight Theres nothing tonight But even dark I saw one alone At hot gates spit vitriol Though swore wouldnt anymore And I cant things want But I love constantly Theres precious little else And though cry must stay alive Let blood run world decides There way life So run on run on'"
      ]
     },
     "execution_count": 93,
     "metadata": {},
     "output_type": "execute_result"
    }
   ],
   "source": [
    "from nltk.corpus import stopwords\n",
    "\n",
    "stop_words = set(stopwords.words('english'))\n",
    "#print(stop_words)\n",
    "\n",
    "filtered_list = []\n",
    "for words in word_list:\n",
    "    if words not in stop_words:\n",
    "        filtered_list.append(words)\n",
    "\n",
    "#tokenize on spaces\n",
    "total_text = ' '.join(filtered_list)\n",
    "total_text.split(' ')\n",
    "#print(total_text_ls)\n",
    "\n",
    "from sklearn.feature_extraction.text import CountVectorizer\n",
    "CountVectorizer().build_tokenizer()(total_text)\n",
    "\n",
    "from nltk.tokenize import word_tokenize\n",
    "word_tokenize(total_text)\n",
    "total_text.lower()\n",
    "punctuation = ['(', ')', '?', ':', ';', ',', '.', '!', '/', '\"', \"'\", '_']\n",
    "\n",
    "for i in punctuation:\n",
    "    total_text = total_text.replace(i, '')\n",
    "\n",
    "#print(total_text)\n",
    "import re\n",
    "re.sub(\"([\\(\\[]).*?([\\)\\]])\", \"\\g<1>\\g<2>\", total_text)\n",
    "re.sub(\"([\\(\\[]).*?([\\)\\]])\", \"\", total_text)\n",
    "#total_text.replace('Ill', 'I will')\n",
    "#total_text.replace('Youll', 'You will')\n",
    "#total_text.replace('Im', 'I am')\n",
    "    \n",
    "#from nltk.tokenize.punkt import PunktWordTokenizer\n",
    "\n",
    "#tokenizer = PunktWordTokenizer()\n",
    "#tokenizer.tokenize(total_text)\n",
    "#print(total_text)\n",
    "\n",
    "#filtered_list = [filtered_list.lower() for words in filtered_list]\n",
    "\n"
   ]
  },
  {
   "cell_type": "code",
   "execution_count": 147,
   "metadata": {},
   "outputs": [],
   "source": [
    "raw = total_text.lower()\n",
    "raw_list = raw.split()\n",
    "\n",
    "from nltk.stem.wordnet import WordNetLemmatizer\n",
    "lemm = WordNetLemmatizer()\n",
    "raw_lemm = lemm.lemmatize(raw)\n",
    "raw_list_lemm = raw_lemm.split()\n",
    "#print(raw_list_lemm)\n",
    "#print(raw_list, raw_list_lemm)\n",
    "\n",
    "from collections import Counter\n",
    "#tf = Counter(raw_list)\n",
    "#tf = dict(tf)\n",
    "\n",
    "tf_lemm = Counter(raw_list_lemm)\n",
    "tf_lemm = dict(tf_lemm)\n",
    "#print(tf_lemm)\n",
    "\n",
    "\n",
    "#with open('/Users/jegan/AnacondaProjects/Mumford/Total Lyrics.csv', 'w') as f:  # Just use 'w' mode in 3.x\n",
    "    #w = csv.DictWriter(f, tf.keys())\n",
    "    #w.writeheader()\n",
    "    #w.writerow(tf)\n",
    "\n",
    "with open('/Users/jegan/AnacondaProjects/Mumford/TF_lemma.csv', 'w') as f:  # Just use 'w' mode in 3.x\n",
    "    w = csv.DictWriter(f, tf_lemm.keys())\n",
    "    w.writeheader()\n",
    "    w.writerow(tf_lemm)\n",
    "    "
   ]
  },
  {
   "cell_type": "code",
   "execution_count": 165,
   "metadata": {},
   "outputs": [
    {
     "name": "stdout",
     "output_type": "stream",
     "text": [
      "{'mend': 1, 'unbruised': 1, 'friends': 1, 'sigh': 1, 'sea': 1, 'shore': 1, 'pure': 1, 'valley': 1, 'rises': 1, 'slowly': 1, 'harvest': 1, 'food': 1, 'eat': 1, 'cannibal': 1, 'meat-eater': 1, 'defeat': 1, 'refresh': 1, 'post': 1, 'block': 1, 'widows': 1, 'orphans': 1, 'growing': 1, 'cave': 1, 'walking': 1, 'hanging': 1, 'upside': 1, 'understand': 1, 'dependence': 1, 'makers': 1, 'sirens': 1, 'freedom': 1, 'litter': 1, 'london': 1, 'hearts': 1, 'warmth': 1, 'swept': 1, 'trumped': 1, 'buried': 1, 'eaten': 1, 'plague': 1, 'memories': 1, 'pestilence': 1, 'overcome': 1, 'strife': 1, 'strikes': 1, 'spring': 1, 'swaps': 1, 'snow': 1, 'leaves': 1, 'happy': 1, 'wholesome': 1, 'clears': 1, 'ascends': 1, 'together': 1, 'afraid': 1, 'discover': 1, 'inside': 1, 'hole': 1, 'within': 1, 'filled': 1, 'void': 1, 'unreal': 1, 'character': 1, 'steals': 1, 'bridges': 1, 'welcome': 1, 'receive': 1, 'restart': 1, 'reason': 1, 'rhyme': 1, 'rightfully': 1, 'confess': 1, 'folly': 1, 'king': 1, 'blank': 1, 'page': 1, 'swelling': 1, 'desired': 1, 'attention': 1, 'urge': 1, 'ensues': 1, 'brass': 1, 'wires': 1, 'warm': 1, 'forearms': 1, 'ours': 1, 'brother': 1, 'carry': 1, 'sleeps': 1, 'doorway': 1, 'enemy': 1, 'bigger': 1, 'apathy': 1, 'won': 1, 'brave': 1, 'rate': 1, 'rake': 1, 'fixing': 1, 'problems': 1, 'settle': 1, 'scores': 1, 'boldness': 1, 'among': 1, 'wreck': 1, 'spend': 1, 'biting': 1, '[harmonizing]': 1, 'freezes': 1, 'doorstep': 1, 'innocence': 1, 'baby': 1, 'his': 1, 'ladder': 1, 'mountains': 1, 'judgements': 1, 'recently': 1, 'tearing': 1, 'clarity': 1, 'clouds': 1, 'getting': 1, 'darling': 1, 'faith': 1, 'shreds': 1, 'corrupted': 1, 'simple': 1, 'sniff': 1, 'riches': 1, 'blown': 1, 'shown': 1, 'creeps': 1, 'hills': 1, 'shoots': 1, 'kill': 1, 'begged': 1, 'droves': 1, 'spade': 1, 'conquer': 1, 'totally': 1, 'porch': 1, 'father': 1, 'field': 1, 'dusty': 1, 'barren': 1, 'yield': 1, 'kicked': 1, 'sixteen': 1, 'idea': 1, 'placed': 1, 'horse': 1, 'remorse': 1, 'accuser': 1, 'oppression': 1, 'reeks': 1, 'liars': 1, 'thieves': 1, 'store': 1, 'storm': 1, 'rains': 1, 'luck': 1, 'pushed': 1, 'not': 1, 'stood': 1, 'tall': 1, 'remembered': 1, 'cling': 1, 'true': 1, 'have': 1, 'because': 1, 'small': 1, 'numbered': 1, 'along': 1, 'ride': 1, 'laughing': 1, 'unborn': 1, 'color': 1, 'explain': 1, 'watchmans': 1, 'year': 1, 'spent': 1, 'nurtured': 1, 'howl': 1, 'cloud': 1, 'mountain': 1, 'press': 1, 'nose': 1, 'shouldve': 1, 'weaker': 1, 'play': 1, 'bloody': 1, 'part': 1, 'purely': 1, 'swerve': 1, 'minds': 1, 'men': 1, 'tastes': 1, 'brush': 1, 'devil': 1, 'strengthen': 1, 'whispers': 1, 'curl': 1, 'toes': 1, 'lesson': 1, 'ark': 1, 'depart': 1, 'cad': 1, 'fraud': 1, 'under': 1, 'lets': 1, 'dust': 1, 'will': 1, 'blow': 1, 'step': 1, 'relent': 1, 'forgave': 1, 'excess': 1, 'bold': 1, 'use': 1, 'alongside': 1, 'fix': 1, 'tethered': 1, 'freed': 1, 'raise': 1, 'paint': 1, 'bow': 1, 'count': 1, 'cost': 1, 'spared': 1, 'lashing': 1, 'out': 1, 'effect': 1, 'hell': 1, 'carried': 1, 'wished': 1, 'veins': 1, 'knelt': 1, 'beside': 1, 'south': 1, 'blue': 1, 'recent': 1, 'children': 1, 'roar': 1, 'stumble': 1, 'tower': 1, 'throne': 1, 'wash': 1, 'skin': 1, 'marbles': 1, 'spin': 1, 'glide': 1, 'tumble': 1, 'stable': 1, 'miss': 1, 'sanguine': 1, '-': 1, 'aches': 1, 'holds': 1, 'others': 1, 'our': 1, 'heads': 1, 'bear': 1, 'drink': 1, 'drug': 1, 'rid': 1, 'ont': 1, 'darken': 1, 'watched': 1, 'stoic': 1, 'shining': 1, 'woods': 1, 'shelter': 1, 'also': 1, 'clouded': 1, 'wrestled': 1, 'brought': 1, 'touch': 1, 'tucked': 1, 'tempt': 1, 'pull': 1, 'stifled': 1, 'air': 1, 'lungs': 1, 'sin': 1, 'shows': 1, 'values': 1, 'shot': 1, 'consign': 1, 'fate': 1, 'homes': 1, 'hours': 1, 'steeped': 1, 'blackened': 1, 'spell': 1, 'jesus': 1, 'wrap': 1, 'ivy': 1, 'twine': 1, 'guard': 1, 'candle': 1, 'right': 1, 'fields': 1, 'green': 1, 'fairest': 1, 'broke': 1, 'please': 1, 'cynics': 1, 'keeps': 1, 'urgency': 1, 'haste': 1, 'helpless': 1, 'stairs': 1, 'haunting': 1, 'consuming': 1, 'prayers': 1, 'shes': 1, 'counting': 1, 'ceilings': 1, 'pale': 1, 'trembling': 1, 'notes': 1, 'piano': 1, 'room': 1, 'throat': 1, 'hearing': 1, 'tune': 1, 'burden': 1, 'locked': 1, 'stored': 1, 'lavender': 1, 'ward': 1, 'crippled': 1, 'burned': 1, 'story': 1, 'seldom': 1, 'squandered': 1, 'resistance': 1, 'pocket': 1, 'mumbles': 1, 'all': 1, 'jests': 1, 'hears': 1, 'wants': 1, 'disregards': 1, 'rest': 1, 'family': 1, 'company': 1, 'strangers': 1, 'railway': 1, 'stations': 1, 'seeking': 1, 'quarters': 1, 'ragged': 1, 'people': 1, 'places': 1, 'only': 1, 'workmans': 1, 'wages': 1, 'job': 1, 'offers': 1, 'whores': 1, 'seventh': 1, 'avenue': 1, 'declare': 1, 'times': 1, 'lonesome': 1, 'wishing': 1, 'york': 1, 'winters': 1, 'arent': 1, 'leading': 1, 'clearing': 1, 'boxer': 1, 'trade': 1, 'carries': 1, 'glove': 1, 'laid': 1, 'till': 1, 'cried': 1, 'anger': 1, 'remains': 1, 'sat': 1, 'spite': 1, 'strangely': 1, 'than': 1, 'triumphant': 1, 'logic': 1, 'shared': 1, 'frown': 1, 'descend': 1, 'relish': 1, 'tompkins': 1, 'square': 1, 'park': 1, 'laugh': 1, 'talk': 1, 'trick': 1, 'work': 1, 'swallowed': 1, 'evening': 1, 'present': 1, 'pretty': 1, 'feelings': 1, 'climbing': 1, 'strangest': 1, 'feeling': 1, 'worlds': 1, 'tired': 1, 'misconceiving': 1, 'couldve': 1, 'noise': 1, 'anything': 1, 'wide-eyed': 1, 'tracers': 1, 'tightrope': 1, 'wander': 1, 'weighed': 1, 'sheltered': 1, 'wolf': 1, '[album': 1, '[music': 1, 'video': 1, 'waits': 1, 'baying': 1, 'promised': 1, 'gaze': 1, 'stare': 1, 'wonder': 1, 'din': 1, 'flash': 1, 'rise': 1, 'crystal': 1, 'shine': 1, 'blessed': 1, 'wilder': 1, 'nobody': 1, 'drown': 1, 'street': 1, 'beholden': 1, 'drinking': 1, 'ends': 1, 'believed': 1, 'endless': 1, 'resign': 1, 'lift': 1, 'cradle': 1, 'minute': 1, 'lay': 1, 'sunken': 1, 'smoke': 1, 'calling': 1, 'whimper': 1, 'silence': 1, 'gives': 1, 'shadow': 1, 'lent': 1, 'erased': 1, 'shaking': 1, 'thowin': 1, 'dice': 1, 'late': 1, 'devils': 1, 'kept': 1, 'unquenched': 1, 'best': 1, 'sworn': 1, 'fully': 1, 'fleshed': 1, 'monster': 1, 'pay': 1, 'none': 1, 'counts': 1, 'plowed': 1, 'flow': 1, 'cruelty': 1, 'compromise': 1, 'stakes': 1, 'remain': 1, 'silent': 1, 'itch': 1, 'courses': 1, 'excuse': 1, 'greets': 1, 'snake': 1, 'broad-shouldered': 1, 'beasts': 1, 'manhattan': 1, 'wire': 1, 'curled': 1, 'dizzy': 1, 'apartment': 1, 'paper': 1, 'listen': 1, 'doubts': 1, 'shouts': 1, 'succumb': 1, 'weekend': 1, 'wreckers': 1, 'bedroom': 1, 'bloodshot': 1, 'beat': 1, 'wed': 1, 'bleed': 1, 'maybe': 1, 'truths': 1, 'reminds': 1, 'past': 1, 'onto': 1, 'house': 1, 'dry': 1, 'month': 1, 'resisting': 1, 'years': 1, 'ago': 1, 'changed': 1, 'outside': 1, 'watches': 1, 'towards': 1, 'lines': 1, 'careful': 1, 'bed': 1, 'loneliness': 1, 'spot': 1, 'friend': 1, 'hunger': 1, 'thirst': 1, 'shiver': 1, 'failed': 1, 'younger': 1, 'stop': 1, 'perfect': 1, 'pill': 1, 'couldnt': 1, 'note': 1, 'disdain': 1, 'tender': 1, 'aground': 1, 'near': 1, 'duller': 1, 'blade': 1, 'decides': 1, 'sorry': 2, 'more': 2, 'foot': 2, 'faults': 2, 'which': 2, 'tie': 2, 'despite': 2, 'make': 2, 'sing': 2, 'meant': 2, 'winds': 2, 'lonely': 2, 'led': 2, 'doubt': 2, 'washed': 2, 'given': 2, 'loved': 2, 'roll': 2, 'substance': 2, 'burnt': 2, 'exactly': 2, 'works': 2, 'stars': 2, 'fires': 2, 'stake': 2, 'marking': 2, 'territory': 2, 'newly': 2, 'impassioned': 2, 'can': 2, 'next': 2, 'clean': 2, '[chorus]': 2, 'white': 2, 'brink': 2, 'denied': 2, 'affections': 2, 'two': 2, 'patient': 2, 'shoulder': 2, 'blind': 2, 'swear': 2, 'yourself': 2, 'lion': 2, 'courage': 2, 'waste': 2, 'tremble': 2, 'wasted': 2, 'already': 2, 'death': 2, 'brothers': 2, 'child': 2, 'great': 2, 'whisper': 2, 'sight': 2, 'sit': 2, 'chest': 2, 'plant': 2, 'seeds': 2, 'cover': 2, 'thistle': 2, 'weeds': 2, 'bones': 2, 'holes': 2, 'woozy': 2, 'struggle': 2, 'stumbles': 2, 'short': 2, 'age': 2, 'trust': 2, 'sure': 2, 'collect': 2, 'pray': 2, 'align': 2, 'greed': 2, 'disgrace': 2, 'gun': 2, 'havent': 2, 'met': 2, 'sir': 2, 'went': 2, 'decay': 2, 'knows': 2, 'scared': 2, 'crumbling': 2, 'farce': 2, 'born': 2, 'mask': 2, 'stretch': 2, 'babel': 2, 'breath': 2, 'thin': 2, 'known': 2, 'build': 2, 'cup': 2, 'holy': 2, 'clear': 2, 'clothes': 2, 'colder': 2, 'while': 2, 'fell': 2, 'heavy': 2, 'spirit': 2, 'thoughts': 2, 'fight': 2, 'callous': 2, 'corner': 2, 'torn': 2, 'apart': 2, 'view': 2, 'turn': 2, 'black': 2, 'coals': 2, 'middle': 2, 'value': 2, 'grown': 2, 'shadows': 2, 'thrown': 2, 'built': 2, 'high': 2, 'homeward': 2, 'flawed': 2, 'promises': 2, 'mirror': 2, 'bright': 2, 'were': 2, 'weight': 2, 'numb': 2, 'price': 2, 'should': 2, 'ash': 2, 'neath': 2, 'door': 2, 'constant': 2, 'lights': 2, 'traveling': 2, 'heard': 2, 'click': 2, 'hopes': 2, 'desire': 2, 'youth': 2, 'fine': 2, 'old': 2, 'mouth': 2, 'chosen': 2, 'safe': 2, 'dare': 2, 'fuck': 2, 'aint': 2, 'sham': 2, 'word': 2, 'scream': 2, 'fulfill': 2, 'heal': 2, 'scars': 2, 'sadness': 2, 'walked': 2, 'across': 2, 'healing': 2, 'wanting': 2, 'boy': 2, 'running': 2, 'laying': 2, 'looking': 2, 'fighter': 2, 'leaving': 2, 'streets': 2, 'desperate': 2, 'care': 2, 'coming': 2, 'stories': 2, 'thousand': 2, '3]': 2, 'version]': 2, 'he': 2, 'wanders': 2, 'closer': 2, 'ii': 2, 'try': 2, 'silver': 2, 'used': 2, 'ready': 2, 'enough': 2, '2': 2, 'falling': 2, 'return': 2, 'yours': 2, 'burn': 2, 'divine': 2, 'seek': 2, 'absolution': 2, 'beats': 2, 'wrapped': 2, 'moment': 2, 'needed': 2, 'floored': 2, '1': 2, 'wrapping': 2, 'win': 2, 'fool': 2, 'at': 2, 'hot': 2, 'gates': 2, 'vitriol': 2, 'swore': 2, 'wouldnt': 2, 'anymore': 2, 'constantly': 2, 'betray': 3, 'dismay': 3, 'enslave': 3, 'be': 3, 'design': 3, 'alignment': 3, 'empty': 3, 'choke': 3, 'noose': 3, 'fill': 3, 'ears': 3, 'winter': 3, 'was': 3, 'kiss': 3, 'day': 3, 'girl': 3, 'good': 3, 'sent': 3, 'remember': 3, 'harsh': 3, 'term': 3, 'yet': 3, 'dominates': 3, 'desires': 3, 'stuck': 3, 'neither': 3, 'follow': 3, 'harm': 3, 'fall': 3, 'force': 3, 'smile': 3, 'weep': 3, 'stands': 3, 'mother': 3, 'steal': 3, 'choices': 3, 'lose': 3, 'move': 3, 'spare': 3, 'seams': 3, 'sky': 3, 'bury': 3, 'fickle': 3, 'finally': 3, 'show': 3, 'lend': 3, 'maker': 3, 'poor': 3, 'eye': 3, 'son': 3, 'rot': 3, 'dismiss': 3, 'flowers': 3, 'hair': 3, 'before': 3, 'sons': 3, 'perhaps': 3, 'ask': 3, 'weve': 3, 'spine': 3, 'fingers': 3, 'tap': 3, 'worried': 3, 'blew': 3, 'chance': 3, 'pick': 3, 'sins': 3, 'lord': 3, 'new': 3, 'forget': 3, 'holland': 3, 'rose': 3, 'hit': 3, 'paid': 3, 'cracks': 3, 'flicker': 3, 'share': 3, 'shade': 3, 'wrong': 3, 'beneath': 3, 'wild': 3, 'wish': 3, 'or': 3, 'help': 3, 'reminder': 3, 'might': 3, 'asking': 3, 'fade': 3, 'bleeding': 3, 'fire': 3, 'skies': 3, 'belly': 3, 'til': 3, 'goes': 3, 'wear': 3, 'crown': 3, 'sweat': 3, 'runs': 3, 'spit': 3, 'theyll': 3, 'top': 3, 'leader': 3, 'flock': 3, 'rock': 3, 'whispered': 3, 'whos': 3, 'going': 3, 'burns': 3, 'forever': 3, 'holding': 3, 'queen': 3, 'abandon': 3, 'losing': 3, 'giddy': 4, 'set': 4, 'shame': 4, 'land': 4, 'need': 4, 'fear': 4, 'lived': 4, 'stay': 4, 'stone': 4, 'fragile': 4, 'seems': 4, 'hide': 4, 'these': 4, 'far': 4, 'lead': 4, 'seal': 4, 'close': 4, 'better': 4, 'water': 4, 'wind': 4, 'much': 4, 'bodies': 4, 'invest': 4, 'meet': 4, 'edge': 4, 'town': 4, 'hill': 4, 'pride': 4, 'got': 4, 'then': 4, '[x2]': 4, 'up': 4, 'full': 4, 'everything': 4, 'voice': 4, 'choice': 4, 'glass': 4, 'id': 4, 'shake': 4, 'that': 4, 'put': 4, 'low': 4, 'fright': 4, 'promise': 4, 'alright': 4, 'watch': 4, 'therell': 4, 'comfort': 4, 'lover': 4, 'tight': 4, 'makes': 4, 'is': 4, 'hopeless': 4, 'wanderer': 4, 'hard': 4, 'feet': 4, 'dance': 4, '[bridge]': 4, 'something': 4, 'trying': 4, 'wanton': 4, 'longed': 4, 'waiting': 4, 'sound': 4, 'peace': 4, 'x2]': 4, 'why': 4, 'wasnt': 4, 'god': 5, 'my': 5, 'fears': 5, 'seen': 5, 'tears': 5, 'yes': 5, 'sleep': 5, 'city': 5, 'it': 5, 'kneel': 5, 'loving': 5, 'rip': 5, 'earth': 5, 'start': 5, 'line': 5, 'else': 5, 'dreams': 5, 'felt': 5, 'me': 5, 'dead': 5, 'weakness': 5, 'die': 5, 'another': 5, 'get': 5, 'what': 5, 'been': 5, 'tear': 5, 'less': 5, 'strong': 5, 'tame': 5, 'gold': 5, 'ghosts': 5, 'lovers': 5, 'tongue': 5, 'words': 5, 'crawl': 5, 'twilight': 5, 'babe': 5, '1]': 5, 'wandering': 5, 'thought': 5, 'nothing': 5, 'danger': 5, 'precious': 5, 'end': 6, 'behind': 6, 'on': 6, 'neck': 6, 'called': 6, 'every': 6, 'found': 6, 'whole': 6, 'rage': 6, 'little': 6, 'cant': 6, 'lies': 6, 'kind': 6, 'nowhere': 6, 'guess': 6, 'slip': 6, 'youd': 6, 'came': 6, 'from': 6, 'place': 6, 'may': 6, 'tried': 6, 'breathe': 6, 'open': 6, 'speak': 6, 'tonight': 6, 'alive': 6, 'thing': 7, 'around': 7, 'strength': 7, 'pain': 7, 'change': 7, 'want': 7, 'us': 7, 'grow': 7, 'flesh': 7, 'darkness': 7, 'ground': 7, 'body': 7, 'youre': 7, 'really': 7, 'fucked': 7, 'dear': 7, 'stand': 7, 'knees': 7, 'theres': 7, 'break': 7, 'done': 7, 'knew': 7, 'whats': 7, 'walls': 7, 'gonna': 7, 'cut': 7, 'flame': 7, 'crowd': 7, 'round': 7, '[hook]': 7, 'serve': 8, 'free': 8, 'ways': 8, 'broken': 8, 'lie': 8, 'could': 8, 'face': 8, 'dark': 8, 'took': 8, 'weak': 8, 'back': 8, 'without': 8, 'road': 8, 'though': 8, 'blood': 8, 'wanna': 8, '[verse': 8, 'cry': 9, 'beauty': 9, 'sun': 9, 'call': 9, 'world': 9, 'arms': 9, 'no': 9, 'would': 9, 'thats': 9, 'give': 9, 'if': 9, 'days': 9, 'awake': 9, 'light': 9, 'we': 9, 'do': 9, 'last': 9, '2]': 9, 'live': 10, 'of': 10, 'walk': 10, 'youve': 10, 'name': 10, 'things': 10, 'grace': 10, 'fault': 10, 'feel': 10, 'rain': 10, 'how': 10, 'must': 10, 'young': 10, 'run': 10, 'slow': 10, 'quiet': 10, 'fast': 10, 'left': 11, 'wont': 11, 'truth': 11, 'for': 11, 'gone': 11, 'think': 11, 'just': 11, 'your': 11, 'look': 11, 'always': 11, 'said': 11, 'saw': 11, 'there': 12, 'mine': 12, 'hear': 12, 'lost': 12, 'youll': 12, 'a': 12, 'didnt': 12, 'hand': 12, 'curse': 12, '[hook': 12, 'as': 13, 'home': 13, 'gave': 13, 'still': 13, 'hope': 14, 'cold': 14, 'soul': 14, 'long': 14, 'where': 14, 'way': 14, 'told': 15, 'alone': 15, 'with': 15, 'down': 15, 'go': 15, 'even': 15, 'like': 16, 'made': 16, 'away': 16, 'find': 16, 'take': 16, 'when': 16, 'har': 16, 'ive': 16, 'to': 17, 'night': 17, 'leave': 17, 'keep': 17, 'ever': 17, 'this': 18, 'man': 18, 'the': 18, 'come': 18, 'hands': 18, 'tell': 18, 'say': 19, 'life': 19, 'believe': 19, 'head': 20, 'never': 22, 'wait': 22, 'let': 23, 'in': 23, 'learn': 23, 'one': 25, 'its': 27, 'cause': 27, 'now': 29, 'oh': 30, 'mind': 31, 'see': 32, 'well': 38, 'eyes': 39, 'time': 40, 'dont': 42, 'im': 44, 'so': 45, 'love': 56, 'you': 57, 'know': 57, 'hold': 57, 'ill': 59, 'heart': 67, 'but': 106, 'and': 218, 'i': 363}\n"
     ]
    }
   ],
   "source": [
    "import operator\n",
    "sorted_x = sorted(tf_lemm.items(), key=operator.itemgetter(1))\n",
    "tf_lemm = dict(sorted_x)\n"
   ]
  },
  {
   "cell_type": "code",
   "execution_count": 191,
   "metadata": {},
   "outputs": [],
   "source": [
    "#selected = {key: value for key, value in tf_lemm.items() if value > 10}\n",
    "#dict(selected)"
   ]
  },
  {
   "cell_type": "code",
   "execution_count": 197,
   "metadata": {},
   "outputs": [
    {
     "name": "stdout",
     "output_type": "stream",
     "text": [
      "{'hands': 18, 'tell': 18, 'mind': 31, 'see': 32, 'eyes': 39, 'time': 40, 'love': 56, 'know': 57, 'hold': 57, 'heart': 67}\n"
     ]
    }
   ],
   "source": [
    "top_words = ['heart', 'know', 'hold', 'love', 'see', 'time', 'eyes', 'tell', 'mind', 'hands']\n",
    "selected = {key: value for key, value in tf_lemm.items() if key in top_words}\n",
    "print(selected)"
   ]
  },
  {
   "cell_type": "code",
   "execution_count": 198,
   "metadata": {},
   "outputs": [
    {
     "data": {
      "image/png": "[encoded data removed]",
      "text/plain": [
       "<matplotlib.figure.Figure at 0x11e149128>"
      ]
     },
     "metadata": {},
     "output_type": "display_data"
    }
   ],
   "source": [
    "import matplotlib.pyplot as plt\n",
    "n = len(top_words)\n",
    "\n",
    "keys = list(selected.keys())\n",
    "freq = list(selected.values())\n",
    "plt.bar(range(len(selected)),freq,tick_label=keys)\n",
    "plt.show()"
   ]
  },
  {
   "cell_type": "code",
   "execution_count": null,
   "metadata": {
    "collapsed": true
   },
   "outputs": [],
   "source": []
  },
  {
   "cell_type": "code",
   "execution_count": null,
   "metadata": {
    "collapsed": true
   },
   "outputs": [],
   "source": []
  },
  {
   "cell_type": "code",
   "execution_count": null,
   "metadata": {
    "collapsed": true
   },
   "outputs": [],
   "source": []
  },
  {
   "cell_type": "code",
   "execution_count": null,
   "metadata": {
    "collapsed": true
   },
   "outputs": [],
   "source": []
  },
  {
   "cell_type": "code",
   "execution_count": null,
   "metadata": {
    "collapsed": true
   },
   "outputs": [],
   "source": []
  },
  {
   "cell_type": "code",
   "execution_count": null,
   "metadata": {
    "collapsed": true
   },
   "outputs": [],
   "source": []
  },
  {
   "cell_type": "code",
   "execution_count": null,
   "metadata": {
    "collapsed": true
   },
   "outputs": [],
   "source": []
  },
  {
   "cell_type": "code",
   "execution_count": null,
   "metadata": {
    "collapsed": true
   },
   "outputs": [],
   "source": []
  },
  {
   "cell_type": "code",
   "execution_count": null,
   "metadata": {
    "collapsed": true
   },
   "outputs": [],
   "source": []
  },
  {
   "cell_type": "code",
   "execution_count": null,
   "metadata": {
    "collapsed": true
   },
   "outputs": [],
   "source": []
  },
  {
   "cell_type": "code",
   "execution_count": null,
   "metadata": {
    "collapsed": true
   },
   "outputs": [],
   "source": []
  },
  {
   "cell_type": "code",
   "execution_count": null,
   "metadata": {
    "collapsed": true
   },
   "outputs": [],
   "source": []
  },
  {
   "cell_type": "code",
   "execution_count": null,
   "metadata": {
    "collapsed": true
   },
   "outputs": [],
   "source": []
  },
  {
   "cell_type": "code",
   "execution_count": null,
   "metadata": {
    "collapsed": true
   },
   "outputs": [],
   "source": []
  },
  {
   "cell_type": "code",
   "execution_count": null,
   "metadata": {
    "collapsed": true
   },
   "outputs": [],
   "source": []
  },
  {
   "cell_type": "code",
   "execution_count": null,
   "metadata": {
    "collapsed": true
   },
   "outputs": [],
   "source": []
  },
  {
   "cell_type": "code",
   "execution_count": null,
   "metadata": {
    "collapsed": true
   },
   "outputs": [],
   "source": []
  },
  {
   "cell_type": "code",
   "execution_count": null,
   "metadata": {
    "collapsed": true
   },
   "outputs": [],
   "source": []
  },
  {
   "cell_type": "code",
   "execution_count": null,
   "metadata": {
    "collapsed": true
   },
   "outputs": [],
   "source": []
  },
  {
   "cell_type": "code",
   "execution_count": null,
   "metadata": {
    "collapsed": true
   },
   "outputs": [],
   "source": []
  },
  {
   "cell_type": "code",
   "execution_count": null,
   "metadata": {
    "collapsed": true
   },
   "outputs": [],
   "source": []
  },
  {
   "cell_type": "code",
   "execution_count": null,
   "metadata": {
    "collapsed": true
   },
   "outputs": [],
   "source": []
  },
  {
   "cell_type": "code",
   "execution_count": null,
   "metadata": {
    "collapsed": true
   },
   "outputs": [],
   "source": []
  },
  {
   "cell_type": "code",
   "execution_count": null,
   "metadata": {
    "collapsed": true
   },
   "outputs": [],
   "source": []
  },
  {
   "cell_type": "code",
   "execution_count": null,
   "metadata": {
    "collapsed": true
   },
   "outputs": [],
   "source": []
  },
  {
   "cell_type": "code",
   "execution_count": null,
   "metadata": {
    "collapsed": true
   },
   "outputs": [],
   "source": []
  },
  {
   "cell_type": "code",
   "execution_count": null,
   "metadata": {
    "collapsed": true
   },
   "outputs": [],
   "source": []
  },
  {
   "cell_type": "code",
   "execution_count": null,
   "metadata": {
    "collapsed": true
   },
   "outputs": [],
   "source": []
  },
  {
   "cell_type": "code",
   "execution_count": null,
   "metadata": {
    "collapsed": true
   },
   "outputs": [],
   "source": []
  },
  {
   "cell_type": "code",
   "execution_count": null,
   "metadata": {
    "collapsed": true
   },
   "outputs": [],
   "source": []
  },
  {
   "cell_type": "code",
   "execution_count": null,
   "metadata": {
    "collapsed": true
   },
   "outputs": [],
   "source": []
  },
  {
   "cell_type": "code",
   "execution_count": null,
   "metadata": {
    "collapsed": true
   },
   "outputs": [],
   "source": []
  },
  {
   "cell_type": "code",
   "execution_count": null,
   "metadata": {
    "collapsed": true
   },
   "outputs": [],
   "source": []
  },
  {
   "cell_type": "code",
   "execution_count": null,
   "metadata": {
    "collapsed": true
   },
   "outputs": [],
   "source": []
  },
  {
   "cell_type": "code",
   "execution_count": null,
   "metadata": {},
   "outputs": [],
   "source": []
  },
  {
   "cell_type": "code",
   "execution_count": null,
   "metadata": {
    "collapsed": true
   },
   "outputs": [],
   "source": []
  },
  {
   "cell_type": "code",
   "execution_count": null,
   "metadata": {
    "collapsed": true
   },
   "outputs": [],
   "source": []
  },
  {
   "cell_type": "code",
   "execution_count": null,
   "metadata": {
    "collapsed": true
   },
   "outputs": [],
   "source": []
  },
  {
   "cell_type": "code",
   "execution_count": null,
   "metadata": {
    "collapsed": true
   },
   "outputs": [],
   "source": []
  },
  {
   "cell_type": "code",
   "execution_count": null,
   "metadata": {
    "collapsed": true
   },
   "outputs": [],
   "source": []
  },
  {
   "cell_type": "code",
   "execution_count": null,
   "metadata": {
    "collapsed": true
   },
   "outputs": [],
   "source": []
  },
  {
   "cell_type": "code",
   "execution_count": null,
   "metadata": {
    "collapsed": true
   },
   "outputs": [],
   "source": []
  },
  {
   "cell_type": "code",
   "execution_count": null,
   "metadata": {
    "collapsed": true
   },
   "outputs": [],
   "source": []
  },
  {
   "cell_type": "code",
   "execution_count": null,
   "metadata": {
    "collapsed": true
   },
   "outputs": [],
   "source": []
  },
  {
   "cell_type": "code",
   "execution_count": null,
   "metadata": {
    "collapsed": true
   },
   "outputs": [],
   "source": []
  },
  {
   "cell_type": "code",
   "execution_count": null,
   "metadata": {
    "collapsed": true
   },
   "outputs": [],
   "source": []
  },
  {
   "cell_type": "code",
   "execution_count": null,
   "metadata": {},
   "outputs": [],
   "source": []
  },
  {
   "cell_type": "code",
   "execution_count": null,
   "metadata": {
    "collapsed": true
   },
   "outputs": [],
   "source": []
  },
  {
   "cell_type": "code",
   "execution_count": null,
   "metadata": {
    "collapsed": true
   },
   "outputs": [],
   "source": []
  },
  {
   "cell_type": "code",
   "execution_count": null,
   "metadata": {
    "collapsed": true
   },
   "outputs": [],
   "source": []
  },
  {
   "cell_type": "code",
   "execution_count": null,
   "metadata": {
    "collapsed": true
   },
   "outputs": [],
   "source": []
  },
  {
   "cell_type": "code",
   "execution_count": null,
   "metadata": {
    "collapsed": true
   },
   "outputs": [],
   "source": []
  },
  {
   "cell_type": "code",
   "execution_count": null,
   "metadata": {
    "collapsed": true
   },
   "outputs": [],
   "source": []
  },
  {
   "cell_type": "code",
   "execution_count": null,
   "metadata": {
    "collapsed": true
   },
   "outputs": [],
   "source": []
  },
  {
   "cell_type": "code",
   "execution_count": null,
   "metadata": {
    "collapsed": true
   },
   "outputs": [],
   "source": []
  },
  {
   "cell_type": "code",
   "execution_count": null,
   "metadata": {
    "collapsed": true
   },
   "outputs": [],
   "source": []
  },
  {
   "cell_type": "code",
   "execution_count": null,
   "metadata": {
    "collapsed": true
   },
   "outputs": [],
   "source": []
  },
  {
   "cell_type": "code",
   "execution_count": null,
   "metadata": {
    "collapsed": true
   },
   "outputs": [],
   "source": []
  },
  {
   "cell_type": "code",
   "execution_count": null,
   "metadata": {
    "collapsed": true
   },
   "outputs": [],
   "source": []
  }
 ],
 "metadata": {
  "kernelspec": {
   "display_name": "Python 3",
   "language": "python",
   "name": "python3"
  },
  "language_info": {
   "codemirror_mode": {
    "name": "ipython",
    "version": 3
   },
   "file_extension": ".py",
   "mimetype": "text/x-python",
   "name": "python",
   "nbconvert_exporter": "python",
   "pygments_lexer": "ipython3",
   "version": "3.6.1"
  }
 },
 "nbformat": 4,
 "nbformat_minor": 2
}
